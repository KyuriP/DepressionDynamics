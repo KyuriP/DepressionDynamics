{
  "cells": [
    {
      "cell_type": "raw",
      "metadata": {},
      "source": [
        "---\n",
        "title: helius\n",
        "format:\n",
        "  html:\n",
        "    grid:\n",
        "      body-width: 3000px\n",
        "      sidebar-width: 200px\n",
        "      margin-width: 200px\n",
        "    toc: true\n",
        "editor: visual\n",
        "---"
      ],
      "id": "53ed3f97"
    },
    {
      "cell_type": "markdown",
      "metadata": {},
      "source": [
        "```{r}\n",
        "library(haven)\n",
        "\n",
        "helius1 <- read_sav(\"data/231107_HELIUS data Kyuri Park.sav\")\n",
        "helius2 <- read_sav(\"data/HELIUS_itemscores.sav\")\n",
        "\n",
        "helius2$Cov1_WlbvRecent1\n",
        "library(janitor)\n",
        "All.list <- list(helius1, helius2)\n",
        "compare_df_cols(All.list)\n",
        "\n",
        "\n",
        "skimr::skim(helius2)\n",
        "\n",
        "library(\"labelled\")\n",
        "res1 <- val_labels(helius1)\n",
        "names(res1)\n",
        "\n",
        "res2 <- val_labels(helius2)\n",
        "names(res2)\n",
        "```"
      ],
      "id": "6b4ea14f"
    },
    {
      "cell_type": "code",
      "metadata": {},
      "source": [
        "import matplotlib.pyplot as plt\n",
        "import numpy as np\n",
        "\n",
        "ax = plt.figure().add_subplot(projection='3d')\n",
        "\n",
        "# Plot a sin curve using the x and y axes.\n",
        "x = np.linspace(0, 1, 100)\n",
        "y = np.sin(x * 2 * np.pi) / 2 + 0.5\n",
        "ax.plot(x, y, zs=0, zdir='z', label='curve in (x, y)')\n",
        "\n",
        "# Plot scatterplot data (20 2D points per colour) on the x and z axes.\n",
        "colors = ('r', 'g', 'b', 'k')\n",
        "\n",
        "# Fixing random state for reproducibility\n",
        "np.random.seed(19680801)\n",
        "\n",
        "x = np.random.sample(20 * len(colors))\n",
        "y = np.random.sample(20 * len(colors))\n",
        "c_list = []\n",
        "for c in colors:\n",
        "    c_list.extend([c] * 20)\n",
        "# By using zdir='y', the y value of these points is fixed to the zs value 0\n",
        "# and the (x, y) points are plotted on the x and z axes.\n",
        "ax.scatter(x, y, zs=0, zdir='y', c=c_list, label='points in (x, z)')\n",
        "\n",
        "# Make legend, set axes limits and labels\n",
        "ax.legend()\n",
        "ax.set_xlim(0, 1)\n",
        "ax.set_ylim(0, 1)\n",
        "ax.set_zlim(0, 1)\n",
        "ax.set_xlabel('X')\n",
        "ax.set_ylabel('Y')\n",
        "ax.set_zlabel('Z')\n",
        "\n",
        "# Customize the view angle so it's easier to see that the scatter points lie\n",
        "# on the plane y=0\n",
        "ax.view_init(elev=20, azim=-35, roll=0)\n",
        "\n",
        "plt.show()"
      ],
      "id": "255a9b32",
      "execution_count": null,
      "outputs": []
    }
  ],
  "metadata": {
    "kernelspec": {
      "display_name": "Python 3",
      "language": "python",
      "name": "python3"
    }
  },
  "nbformat": 4,
  "nbformat_minor": 5
}